{
 "cells": [
  {
   "cell_type": "markdown",
   "metadata": {
    "id": "gu8pCmihbTU6"
   },
   "source": [
    "# Passo 1: Setup do Projeto"
   ]
  },
  {
   "cell_type": "code",
   "execution_count": 40,
   "metadata": {
    "colab": {
     "base_uri": "https://localhost:8080/"
    },
    "executionInfo": {
     "elapsed": 606,
     "status": "ok",
     "timestamp": 1613769595360,
     "user": {
      "displayName": "Tiago Custodio",
      "photoUrl": "https://lh3.googleusercontent.com/a-/AOh14GgzkkGhkESJFetznU46LBXxC8aqGJEYPwhXhZSD=s64",
      "userId": "10453097688130831291"
     },
     "user_tz": 180
    },
    "id": "Q5MnLS3Y8mtY",
    "outputId": "a7611dd8-c398-4ee8-ac01-68803001c2bf"
   },
   "outputs": [
    {
     "name": "stdout",
     "output_type": "stream",
     "text": [
      "Matplot version : 3.3.2\n",
      "Numpy version : 1.19.2\n",
      "Pandas version : 1.1.3\n",
      "Sklearn version : 0.23.2\n"
     ]
    }
   ],
   "source": [
    "import joblib\n",
    "import os\n",
    "\n",
    "import pandas as pd\n",
    "import numpy as np\n",
    "import matplotlib\n",
    "import matplotlib.pyplot as plt\n",
    "import seaborn as sns\n",
    "\n",
    "import sklearn\n",
    "from sklearn.ensemble import RandomForestClassifier\n",
    "from sklearn.gaussian_process import GaussianProcessClassifier\n",
    "from sklearn.gaussian_process.kernels import RBF\n",
    "from sklearn.linear_model import LogisticRegression\n",
    "from sklearn.model_selection import train_test_split, cross_val_score, GridSearchCV, KFold\n",
    "from sklearn.metrics import confusion_matrix, classification_report\n",
    "from sklearn.neighbors import KNeighborsClassifier\n",
    "from sklearn.svm import SVC\n",
    "from sklearn.tree import DecisionTreeClassifier\n",
    "\n",
    "print('Matplot version : {}'.format(matplotlib.__version__))\n",
    "print('Numpy version : {}'.format(np.__version__))\n",
    "print('Pandas version : {}'.format(pd.__version__))\n",
    "print('Sklearn version : {}'.format(sklearn.__version__))"
   ]
  },
  {
   "cell_type": "markdown",
   "metadata": {
    "id": "mEzJd7wzbcQe"
   },
   "source": [
    "# Passo 2: Recuperação dos dados"
   ]
  },
  {
   "cell_type": "code",
   "execution_count": 5,
   "metadata": {},
   "outputs": [],
   "source": [
    "DATA_PATH = os.path.join('..','data','raw')\n",
    "DATA_FILE = 'crx.csv'\n",
    "\n",
    "CREDIT_DATA = os.path.join(DATA_PATH,DATA_FILE)\n",
    "\n",
    "DEPLOY_PATH = os.path.join('..','app','model')\n",
    "DEPLOY_FILE = 'finalized_model.sav'\n",
    "\n",
    "RS = 42"
   ]
  },
  {
   "cell_type": "code",
   "execution_count": 15,
   "metadata": {
    "executionInfo": {
     "elapsed": 592,
     "status": "ok",
     "timestamp": 1613769612353,
     "user": {
      "displayName": "Tiago Custodio",
      "photoUrl": "https://lh3.googleusercontent.com/a-/AOh14GgzkkGhkESJFetznU46LBXxC8aqGJEYPwhXhZSD=s64",
      "userId": "10453097688130831291"
     },
     "user_tz": 180
    },
    "id": "eOxtnj239JhA"
   },
   "outputs": [],
   "source": [
    "def load_data(data_path,data_file):\n",
    "    local_path = os.path.join(data_path, data_file)\n",
    "    names = ['Genero','Idade','Dividas','Casado','Cliente','Escolaridade','Etnia','Anos_empregado','Padrao_anterior','Empregado','Score','Licenca','Cidadania','Codigo_postal','Renda','Resultado']\n",
    "    df = pd.read_csv(local_path, header=None, names=names)\n",
    "    return df[['Dividas','Anos_empregado','Padrao_anterior','Score','Renda','Resultado']]"
   ]
  },
  {
   "cell_type": "code",
   "execution_count": 16,
   "metadata": {},
   "outputs": [],
   "source": [
    "credit_data = load_data(DATA_PATH, DATA_FILE)"
   ]
  },
  {
   "cell_type": "markdown",
   "metadata": {},
   "source": [
    "# Passo 3: Substituição dos dados"
   ]
  },
  {
   "cell_type": "code",
   "execution_count": 17,
   "metadata": {
    "colab": {
     "base_uri": "https://localhost:8080/"
    },
    "executionInfo": {
     "elapsed": 605,
     "status": "ok",
     "timestamp": 1613769624010,
     "user": {
      "displayName": "Tiago Custodio",
      "photoUrl": "https://lh3.googleusercontent.com/a-/AOh14GgzkkGhkESJFetznU46LBXxC8aqGJEYPwhXhZSD=s64",
      "userId": "10453097688130831291"
     },
     "user_tz": 180
    },
    "id": "OUU15J_fIIM2",
    "outputId": "59a0dd46-2967-4e7e-fe53-927364373bcc"
   },
   "outputs": [
    {
     "data": {
      "text/plain": [
       "array(['t', 'f'], dtype=object)"
      ]
     },
     "execution_count": 17,
     "metadata": {},
     "output_type": "execute_result"
    }
   ],
   "source": [
    "pd.unique(credit_data['Padrao_anterior'])"
   ]
  },
  {
   "cell_type": "code",
   "execution_count": 18,
   "metadata": {
    "colab": {
     "base_uri": "https://localhost:8080/"
    },
    "executionInfo": {
     "elapsed": 594,
     "status": "ok",
     "timestamp": 1613769633633,
     "user": {
      "displayName": "Tiago Custodio",
      "photoUrl": "https://lh3.googleusercontent.com/a-/AOh14GgzkkGhkESJFetznU46LBXxC8aqGJEYPwhXhZSD=s64",
      "userId": "10453097688130831291"
     },
     "user_tz": 180
    },
    "id": "m3hzwHRYIV0j",
    "outputId": "4f3d8ac4-4a80-436f-938f-cacc630be46c"
   },
   "outputs": [
    {
     "data": {
      "text/plain": [
       "array(['+', '-'], dtype=object)"
      ]
     },
     "execution_count": 18,
     "metadata": {},
     "output_type": "execute_result"
    }
   ],
   "source": [
    "pd.unique(credit_data['Resultado'])"
   ]
  },
  {
   "cell_type": "code",
   "execution_count": 19,
   "metadata": {
    "colab": {
     "base_uri": "https://localhost:8080/"
    },
    "executionInfo": {
     "elapsed": 600,
     "status": "ok",
     "timestamp": 1613769637098,
     "user": {
      "displayName": "Tiago Custodio",
      "photoUrl": "https://lh3.googleusercontent.com/a-/AOh14GgzkkGhkESJFetznU46LBXxC8aqGJEYPwhXhZSD=s64",
      "userId": "10453097688130831291"
     },
     "user_tz": 180
    },
    "id": "F5x6NEaeIYY6",
    "outputId": "a70fc800-da9b-45dc-a1a0-2c3808182c83"
   },
   "outputs": [],
   "source": [
    "prior  = {'t':1,'f':0}\n",
    "credit_data['Padrao_anterior'] = credit_data['Padrao_anterior'].map(prior)"
   ]
  },
  {
   "cell_type": "code",
   "execution_count": 21,
   "metadata": {
    "colab": {
     "base_uri": "https://localhost:8080/"
    },
    "executionInfo": {
     "elapsed": 1411,
     "status": "ok",
     "timestamp": 1613769645054,
     "user": {
      "displayName": "Tiago Custodio",
      "photoUrl": "https://lh3.googleusercontent.com/a-/AOh14GgzkkGhkESJFetznU46LBXxC8aqGJEYPwhXhZSD=s64",
      "userId": "10453097688130831291"
     },
     "user_tz": 180
    },
    "id": "Cq6FoBCGIg3F",
    "outputId": "4f5b998c-9e69-4ea0-a135-65c0dcbc29c0",
    "scrolled": true
   },
   "outputs": [],
   "source": [
    "res = {'+' : 1,'-' : 0}\n",
    "credit_data['Resultado'] = credit_data['Resultado'].map(res)"
   ]
  },
  {
   "cell_type": "markdown",
   "metadata": {
    "id": "u_ezH2veImQn"
   },
   "source": [
    "# Passo 4: Análise Exploratória dos dados"
   ]
  },
  {
   "cell_type": "code",
   "execution_count": 22,
   "metadata": {
    "colab": {
     "base_uri": "https://localhost:8080/"
    },
    "executionInfo": {
     "elapsed": 1148,
     "status": "ok",
     "timestamp": 1613769652145,
     "user": {
      "displayName": "Tiago Custodio",
      "photoUrl": "https://lh3.googleusercontent.com/a-/AOh14GgzkkGhkESJFetznU46LBXxC8aqGJEYPwhXhZSD=s64",
      "userId": "10453097688130831291"
     },
     "user_tz": 180
    },
    "id": "_y-b6XqW9XPZ",
    "outputId": "a1ff19fd-bd1c-451d-dd0b-b26679686e68",
    "scrolled": true
   },
   "outputs": [
    {
     "name": "stdout",
     "output_type": "stream",
     "text": [
      "<class 'pandas.core.frame.DataFrame'>\n",
      "RangeIndex: 690 entries, 0 to 689\n",
      "Data columns (total 6 columns):\n",
      " #   Column           Non-Null Count  Dtype  \n",
      "---  ------           --------------  -----  \n",
      " 0   Dividas          690 non-null    float64\n",
      " 1   Anos_empregado   690 non-null    float64\n",
      " 2   Padrao_anterior  690 non-null    int64  \n",
      " 3   Score            690 non-null    int64  \n",
      " 4   Renda            690 non-null    int64  \n",
      " 5   Resultado        690 non-null    int64  \n",
      "dtypes: float64(2), int64(4)\n",
      "memory usage: 32.5 KB\n"
     ]
    }
   ],
   "source": [
    "credit_data.info()"
   ]
  },
  {
   "cell_type": "code",
   "execution_count": 23,
   "metadata": {
    "colab": {
     "base_uri": "https://localhost:8080/",
     "height": 204
    },
    "executionInfo": {
     "elapsed": 1236,
     "status": "ok",
     "timestamp": 1613769657777,
     "user": {
      "displayName": "Tiago Custodio",
      "photoUrl": "https://lh3.googleusercontent.com/a-/AOh14GgzkkGhkESJFetznU46LBXxC8aqGJEYPwhXhZSD=s64",
      "userId": "10453097688130831291"
     },
     "user_tz": 180
    },
    "id": "MrtfkLdIaXs6",
    "outputId": "fe6dc648-46ce-4f79-fff4-57e8f46647fc"
   },
   "outputs": [
    {
     "data": {
      "text/html": [
       "<div>\n",
       "<style scoped>\n",
       "    .dataframe tbody tr th:only-of-type {\n",
       "        vertical-align: middle;\n",
       "    }\n",
       "\n",
       "    .dataframe tbody tr th {\n",
       "        vertical-align: top;\n",
       "    }\n",
       "\n",
       "    .dataframe thead th {\n",
       "        text-align: right;\n",
       "    }\n",
       "</style>\n",
       "<table border=\"1\" class=\"dataframe\">\n",
       "  <thead>\n",
       "    <tr style=\"text-align: right;\">\n",
       "      <th></th>\n",
       "      <th>Dividas</th>\n",
       "      <th>Anos_empregado</th>\n",
       "      <th>Padrao_anterior</th>\n",
       "      <th>Score</th>\n",
       "      <th>Renda</th>\n",
       "      <th>Resultado</th>\n",
       "    </tr>\n",
       "  </thead>\n",
       "  <tbody>\n",
       "    <tr>\n",
       "      <th>0</th>\n",
       "      <td>0.000</td>\n",
       "      <td>1.25</td>\n",
       "      <td>1</td>\n",
       "      <td>1</td>\n",
       "      <td>0</td>\n",
       "      <td>1</td>\n",
       "    </tr>\n",
       "    <tr>\n",
       "      <th>1</th>\n",
       "      <td>4.460</td>\n",
       "      <td>3.04</td>\n",
       "      <td>1</td>\n",
       "      <td>6</td>\n",
       "      <td>560</td>\n",
       "      <td>1</td>\n",
       "    </tr>\n",
       "    <tr>\n",
       "      <th>2</th>\n",
       "      <td>0.500</td>\n",
       "      <td>1.50</td>\n",
       "      <td>1</td>\n",
       "      <td>0</td>\n",
       "      <td>824</td>\n",
       "      <td>1</td>\n",
       "    </tr>\n",
       "    <tr>\n",
       "      <th>3</th>\n",
       "      <td>1.540</td>\n",
       "      <td>3.75</td>\n",
       "      <td>1</td>\n",
       "      <td>5</td>\n",
       "      <td>3</td>\n",
       "      <td>1</td>\n",
       "    </tr>\n",
       "    <tr>\n",
       "      <th>4</th>\n",
       "      <td>5.625</td>\n",
       "      <td>1.71</td>\n",
       "      <td>1</td>\n",
       "      <td>0</td>\n",
       "      <td>0</td>\n",
       "      <td>1</td>\n",
       "    </tr>\n",
       "  </tbody>\n",
       "</table>\n",
       "</div>"
      ],
      "text/plain": [
       "   Dividas  Anos_empregado  Padrao_anterior  Score  Renda  Resultado\n",
       "0    0.000            1.25                1      1      0          1\n",
       "1    4.460            3.04                1      6    560          1\n",
       "2    0.500            1.50                1      0    824          1\n",
       "3    1.540            3.75                1      5      3          1\n",
       "4    5.625            1.71                1      0      0          1"
      ]
     },
     "execution_count": 23,
     "metadata": {},
     "output_type": "execute_result"
    }
   ],
   "source": [
    "credit_data.head()"
   ]
  },
  {
   "cell_type": "code",
   "execution_count": 24,
   "metadata": {
    "colab": {
     "base_uri": "https://localhost:8080/",
     "height": 297
    },
    "executionInfo": {
     "elapsed": 1125,
     "status": "ok",
     "timestamp": 1613769661378,
     "user": {
      "displayName": "Tiago Custodio",
      "photoUrl": "https://lh3.googleusercontent.com/a-/AOh14GgzkkGhkESJFetznU46LBXxC8aqGJEYPwhXhZSD=s64",
      "userId": "10453097688130831291"
     },
     "user_tz": 180
    },
    "id": "6zcCLTj2UBul",
    "outputId": "1d091d16-82e9-4def-9842-f45320360ac8"
   },
   "outputs": [
    {
     "data": {
      "text/html": [
       "<div>\n",
       "<style scoped>\n",
       "    .dataframe tbody tr th:only-of-type {\n",
       "        vertical-align: middle;\n",
       "    }\n",
       "\n",
       "    .dataframe tbody tr th {\n",
       "        vertical-align: top;\n",
       "    }\n",
       "\n",
       "    .dataframe thead th {\n",
       "        text-align: right;\n",
       "    }\n",
       "</style>\n",
       "<table border=\"1\" class=\"dataframe\">\n",
       "  <thead>\n",
       "    <tr style=\"text-align: right;\">\n",
       "      <th></th>\n",
       "      <th>Dividas</th>\n",
       "      <th>Anos_empregado</th>\n",
       "      <th>Padrao_anterior</th>\n",
       "      <th>Score</th>\n",
       "      <th>Renda</th>\n",
       "      <th>Resultado</th>\n",
       "    </tr>\n",
       "  </thead>\n",
       "  <tbody>\n",
       "    <tr>\n",
       "      <th>count</th>\n",
       "      <td>690.000000</td>\n",
       "      <td>690.000000</td>\n",
       "      <td>690.000000</td>\n",
       "      <td>690.00000</td>\n",
       "      <td>690.000000</td>\n",
       "      <td>690.000000</td>\n",
       "    </tr>\n",
       "    <tr>\n",
       "      <th>mean</th>\n",
       "      <td>4.758725</td>\n",
       "      <td>2.223406</td>\n",
       "      <td>0.523188</td>\n",
       "      <td>2.40000</td>\n",
       "      <td>1017.385507</td>\n",
       "      <td>0.444928</td>\n",
       "    </tr>\n",
       "    <tr>\n",
       "      <th>std</th>\n",
       "      <td>4.978163</td>\n",
       "      <td>3.346513</td>\n",
       "      <td>0.499824</td>\n",
       "      <td>4.86294</td>\n",
       "      <td>5210.102598</td>\n",
       "      <td>0.497318</td>\n",
       "    </tr>\n",
       "    <tr>\n",
       "      <th>min</th>\n",
       "      <td>0.000000</td>\n",
       "      <td>0.000000</td>\n",
       "      <td>0.000000</td>\n",
       "      <td>0.00000</td>\n",
       "      <td>0.000000</td>\n",
       "      <td>0.000000</td>\n",
       "    </tr>\n",
       "    <tr>\n",
       "      <th>25%</th>\n",
       "      <td>1.000000</td>\n",
       "      <td>0.165000</td>\n",
       "      <td>0.000000</td>\n",
       "      <td>0.00000</td>\n",
       "      <td>0.000000</td>\n",
       "      <td>0.000000</td>\n",
       "    </tr>\n",
       "    <tr>\n",
       "      <th>50%</th>\n",
       "      <td>2.750000</td>\n",
       "      <td>1.000000</td>\n",
       "      <td>1.000000</td>\n",
       "      <td>0.00000</td>\n",
       "      <td>5.000000</td>\n",
       "      <td>0.000000</td>\n",
       "    </tr>\n",
       "    <tr>\n",
       "      <th>75%</th>\n",
       "      <td>7.207500</td>\n",
       "      <td>2.625000</td>\n",
       "      <td>1.000000</td>\n",
       "      <td>3.00000</td>\n",
       "      <td>395.500000</td>\n",
       "      <td>1.000000</td>\n",
       "    </tr>\n",
       "    <tr>\n",
       "      <th>max</th>\n",
       "      <td>28.000000</td>\n",
       "      <td>28.500000</td>\n",
       "      <td>1.000000</td>\n",
       "      <td>67.00000</td>\n",
       "      <td>100000.000000</td>\n",
       "      <td>1.000000</td>\n",
       "    </tr>\n",
       "  </tbody>\n",
       "</table>\n",
       "</div>"
      ],
      "text/plain": [
       "          Dividas  Anos_empregado  Padrao_anterior      Score          Renda  \\\n",
       "count  690.000000      690.000000       690.000000  690.00000     690.000000   \n",
       "mean     4.758725        2.223406         0.523188    2.40000    1017.385507   \n",
       "std      4.978163        3.346513         0.499824    4.86294    5210.102598   \n",
       "min      0.000000        0.000000         0.000000    0.00000       0.000000   \n",
       "25%      1.000000        0.165000         0.000000    0.00000       0.000000   \n",
       "50%      2.750000        1.000000         1.000000    0.00000       5.000000   \n",
       "75%      7.207500        2.625000         1.000000    3.00000     395.500000   \n",
       "max     28.000000       28.500000         1.000000   67.00000  100000.000000   \n",
       "\n",
       "        Resultado  \n",
       "count  690.000000  \n",
       "mean     0.444928  \n",
       "std      0.497318  \n",
       "min      0.000000  \n",
       "25%      0.000000  \n",
       "50%      0.000000  \n",
       "75%      1.000000  \n",
       "max      1.000000  "
      ]
     },
     "execution_count": 24,
     "metadata": {},
     "output_type": "execute_result"
    }
   ],
   "source": [
    "credit_data.describe()"
   ]
  },
  {
   "cell_type": "code",
   "execution_count": 26,
   "metadata": {
    "colab": {
     "base_uri": "https://localhost:8080/",
     "height": 607
    },
    "executionInfo": {
     "elapsed": 621,
     "status": "ok",
     "timestamp": 1613769752645,
     "user": {
      "displayName": "Tiago Custodio",
      "photoUrl": "https://lh3.googleusercontent.com/a-/AOh14GgzkkGhkESJFetznU46LBXxC8aqGJEYPwhXhZSD=s64",
      "userId": "10453097688130831291"
     },
     "user_tz": 180
    },
    "id": "sUSHXxpYUOn_",
    "outputId": "4eaf4c64-a8e0-496e-843b-300efcf2325a"
   },
   "outputs": [
    {
     "data": {
      "image/png": "[encoded data removed]",
      "text/plain": [
       "<Figure size 504x504 with 1 Axes>"
      ]
     },
     "metadata": {
      "needs_background": "light"
     },
     "output_type": "display_data"
    }
   ],
   "source": [
    "plt.figure(figsize=(7,7))\n",
    "_ = sns.countplot(x='Resultado',data=credit_data)"
   ]
  },
  {
   "cell_type": "code",
   "execution_count": 27,
   "metadata": {
    "colab": {
     "base_uri": "https://localhost:8080/",
     "height": 346
    },
    "executionInfo": {
     "elapsed": 983,
     "status": "ok",
     "timestamp": 1613769830449,
     "user": {
      "displayName": "Tiago Custodio",
      "photoUrl": "https://lh3.googleusercontent.com/a-/AOh14GgzkkGhkESJFetznU46LBXxC8aqGJEYPwhXhZSD=s64",
      "userId": "10453097688130831291"
     },
     "user_tz": 180
    },
    "id": "ZkcQ0kNsXXGc",
    "outputId": "8e4cf12b-4004-4dd5-a5db-fb2a66b444e3"
   },
   "outputs": [
    {
     "data": {
      "image/png": "[encoded data removed]",
      "text/plain": [
       "<Figure size 432x288 with 2 Axes>"
      ]
     },
     "metadata": {
      "needs_background": "light"
     },
     "output_type": "display_data"
    }
   ],
   "source": [
    "_ = sns.heatmap(credit_data.isnull(),yticklabels=False,cbar=True)"
   ]
  },
  {
   "cell_type": "code",
   "execution_count": 28,
   "metadata": {
    "colab": {
     "base_uri": "https://localhost:8080/"
    },
    "executionInfo": {
     "elapsed": 608,
     "status": "ok",
     "timestamp": 1613770603189,
     "user": {
      "displayName": "Tiago Custodio",
      "photoUrl": "https://lh3.googleusercontent.com/a-/AOh14GgzkkGhkESJFetznU46LBXxC8aqGJEYPwhXhZSD=s64",
      "userId": "10453097688130831291"
     },
     "user_tz": 180
    },
    "id": "AiqfDWXCOQb1",
    "outputId": "2cd1805e-e1e1-4d5f-a833-ac02d4073597"
   },
   "outputs": [
    {
     "data": {
      "text/plain": [
       "Dividas            0\n",
       "Anos_empregado     0\n",
       "Padrao_anterior    0\n",
       "Score              0\n",
       "Renda              0\n",
       "Resultado          0\n",
       "dtype: int64"
      ]
     },
     "execution_count": 28,
     "metadata": {},
     "output_type": "execute_result"
    }
   ],
   "source": [
    "credit_data.isnull().sum()"
   ]
  },
  {
   "cell_type": "code",
   "execution_count": 29,
   "metadata": {
    "executionInfo": {
     "elapsed": 581,
     "status": "ok",
     "timestamp": 1613770762011,
     "user": {
      "displayName": "Tiago Custodio",
      "photoUrl": "https://lh3.googleusercontent.com/a-/AOh14GgzkkGhkESJFetznU46LBXxC8aqGJEYPwhXhZSD=s64",
      "userId": "10453097688130831291"
     },
     "user_tz": 180
    },
    "id": "XzqSAVCvLuzs"
   },
   "outputs": [],
   "source": [
    "x = credit_data.drop(['Resultado'],axis=1)\n",
    "y = credit_data['Resultado']"
   ]
  },
  {
   "cell_type": "code",
   "execution_count": 30,
   "metadata": {
    "colab": {
     "base_uri": "https://localhost:8080/",
     "height": 626
    },
    "executionInfo": {
     "elapsed": 2747,
     "status": "ok",
     "timestamp": 1613770871567,
     "user": {
      "displayName": "Tiago Custodio",
      "photoUrl": "https://lh3.googleusercontent.com/a-/AOh14GgzkkGhkESJFetznU46LBXxC8aqGJEYPwhXhZSD=s64",
      "userId": "10453097688130831291"
     },
     "user_tz": 180
    },
    "id": "Oi3fk8cPO67W",
    "outputId": "5837cc07-940c-4d2b-954e-d09af70e4a19"
   },
   "outputs": [
    {
     "data": {
      "image/png": "[encoded data removed]",
      "text/plain": [
       "<Figure size 720x720 with 25 Axes>"
      ]
     },
     "metadata": {
      "needs_background": "light"
     },
     "output_type": "display_data"
    }
   ],
   "source": [
    "_ = pd.plotting.scatter_matrix(x, c=y, figsize=[10,10], marker='D')"
   ]
  },
  {
   "cell_type": "markdown",
   "metadata": {
    "id": "LrW4KslWP1AJ"
   },
   "source": [
    "# Passo 5: Preparação de Dados"
   ]
  },
  {
   "cell_type": "code",
   "execution_count": 31,
   "metadata": {
    "id": "sKADXT0APz5_"
   },
   "outputs": [],
   "source": [
    "from sklearn.preprocessing import MinMaxScaler\n",
    "\n",
    "scaler = MinMaxScaler() \n",
    "X_scaled = pd.DataFrame(scaler.fit_transform(x))\n",
    "X_scaled.columns = x.columns"
   ]
  },
  {
   "cell_type": "markdown",
   "metadata": {},
   "source": [
    "# Passo 6: Treinamento do modelo"
   ]
  },
  {
   "cell_type": "code",
   "execution_count": 32,
   "metadata": {},
   "outputs": [],
   "source": [
    "x_train, x_test, y_train, y_test = train_test_split(X_scaled, y, test_size=.3, stratify=y, random_state=RS)"
   ]
  },
  {
   "cell_type": "code",
   "execution_count": 37,
   "metadata": {},
   "outputs": [],
   "source": [
    "def build_classifiers():\n",
    "    \n",
    "    classifiers = []\n",
    "    classifiers.append(\n",
    "        ('knn',\n",
    "        KNeighborsClassifier(),\n",
    "        {'n_neighbors': range(1, 33, 2)})\n",
    "    )\n",
    "    \n",
    "    classifiers.append(\n",
    "        ('lr',\n",
    "        LogisticRegression(max_iter=1000),\n",
    "        {'penalty': ['l2'], 'C': [100,10,1, 0.1,0.01]})\n",
    "    )\n",
    "    \n",
    "    classifiers.append(\n",
    "        ('svm',\n",
    "        SVC(),\n",
    "        {'C': [2**(-5),1,2**5,2**10],\n",
    "        'gamma': [2**(-15),2**(-10),2**(-5),1, 2**5]})\n",
    "    )\n",
    "    \n",
    "    classifiers.append(\n",
    "        ('dt',\n",
    "        DecisionTreeClassifier(),\n",
    "        {'max_depth': [2,4,6,8,10,12]})\n",
    "    )\n",
    "    \n",
    "    classifiers.append(\n",
    "        ('rf',\n",
    "        RandomForestClassifier(),\n",
    "        {'n_estimators': [10,50,100]})\n",
    "    )\n",
    "    \n",
    "    classifiers.append(\n",
    "        ('gpc',                              \n",
    "        GaussianProcessClassifier(), \n",
    "        {'kernel':[1.0 * RBF(1.0)]})   \n",
    "    )\n",
    "    \n",
    "    return classifiers"
   ]
  },
  {
   "cell_type": "code",
   "execution_count": 38,
   "metadata": {},
   "outputs": [],
   "source": [
    "classifiers = build_classifiers()"
   ]
  },
  {
   "cell_type": "code",
   "execution_count": 41,
   "metadata": {},
   "outputs": [
    {
     "name": "stdout",
     "output_type": "stream",
     "text": [
      ">> classifier name: knn\n",
      "Mean: 0.8280187074829932, Standart Deviation: 0.04781008584983387\n",
      ">> classifier name: lr\n",
      "Mean: 0.8321003401360544, Standart Deviation: 0.04273729074040258\n",
      ">> classifier name: svm\n",
      "Mean: 0.8280187074829932, Standart Deviation: 0.03667384514594678\n",
      ">> classifier name: dt\n",
      "Mean: 0.8154336734693878, Standart Deviation: 0.06989993759303512\n",
      ">> classifier name: rf\n",
      "Mean: 0.8321428571428573, Standart Deviation: 0.03715402591167872\n",
      ">> classifier name: gpc\n",
      "Mean: 0.8239795918367347, Standart Deviation: 0.03986907485981133\n"
     ]
    }
   ],
   "source": [
    "results = []\n",
    "names = []\n",
    "for name, model, parameters in classifiers:\n",
    "    print(\">> classifier name: {}\".format(name))\n",
    "    gs = GridSearchCV(estimator=model,param_grid=parameters,refit=True, verbose=0)\n",
    "    kf = KFold(n_splits=10, shuffle=True, random_state=RS)\n",
    "    cv = cross_val_score(gs, x_train, y_train, cv=kf, scoring='accuracy')\n",
    "    print('Mean: {}, Standart Deviation: {}'.format(cv.mean(),cv.std()))\n",
    "    results.append(cv)\n",
    "    names.append(name)"
   ]
  },
  {
   "cell_type": "code",
   "execution_count": 42,
   "metadata": {},
   "outputs": [
    {
     "data": {
      "image/png": "[encoded data removed]",
      "text/plain": [
       "<Figure size 432x288 with 1 Axes>"
      ]
     },
     "metadata": {
      "needs_background": "light"
     },
     "output_type": "display_data"
    }
   ],
   "source": [
    "fig, ax = plt.subplots()\n",
    "fig.suptitle('Desempenho dos algoritmos em treinamento')\n",
    "plt.boxplot(results)\n",
    "ax.set_xticklabels(names)\n",
    "ax.set_xlabel('Classificadores')\n",
    "ax.set_ylabel('Acuracia')\n",
    "plt.show()"
   ]
  },
  {
   "cell_type": "markdown",
   "metadata": {},
   "source": [
    "# Passo 7: Testar o Modelo"
   ]
  },
  {
   "cell_type": "code",
   "execution_count": 43,
   "metadata": {},
   "outputs": [
    {
     "name": "stdout",
     "output_type": "stream",
     "text": [
      "Acurácia do modelo knn em Teste: 0.855072463768116\n",
      "              precision    recall  f1-score   support\n",
      "\n",
      "           0       0.85      0.90      0.87       115\n",
      "           1       0.86      0.80      0.83        92\n",
      "\n",
      "    accuracy                           0.86       207\n",
      "   macro avg       0.86      0.85      0.85       207\n",
      "weighted avg       0.86      0.86      0.85       207\n",
      "\n",
      "Acurácia do modelo lr em Teste: 0.9130434782608695\n",
      "              precision    recall  f1-score   support\n",
      "\n",
      "           0       0.99      0.85      0.92       115\n",
      "           1       0.84      0.99      0.91        92\n",
      "\n",
      "    accuracy                           0.91       207\n",
      "   macro avg       0.92      0.92      0.91       207\n",
      "weighted avg       0.92      0.91      0.91       207\n",
      "\n",
      "Acurácia do modelo svm em Teste: 0.9033816425120773\n",
      "              precision    recall  f1-score   support\n",
      "\n",
      "           0       0.96      0.86      0.91       115\n",
      "           1       0.85      0.96      0.90        92\n",
      "\n",
      "    accuracy                           0.90       207\n",
      "   macro avg       0.90      0.91      0.90       207\n",
      "weighted avg       0.91      0.90      0.90       207\n",
      "\n",
      "Acurácia do modelo dt em Teste: 0.7971014492753623\n",
      "              precision    recall  f1-score   support\n",
      "\n",
      "           0       0.76      0.94      0.84       115\n",
      "           1       0.89      0.62      0.73        92\n",
      "\n",
      "    accuracy                           0.80       207\n",
      "   macro avg       0.82      0.78      0.78       207\n",
      "weighted avg       0.82      0.80      0.79       207\n",
      "\n",
      "Acurácia do modelo rf em Teste: 0.855072463768116\n",
      "              precision    recall  f1-score   support\n",
      "\n",
      "           0       0.86      0.89      0.87       115\n",
      "           1       0.85      0.82      0.83        92\n",
      "\n",
      "    accuracy                           0.86       207\n",
      "   macro avg       0.85      0.85      0.85       207\n",
      "weighted avg       0.85      0.86      0.85       207\n",
      "\n",
      "Acurácia do modelo gpc em Teste: 0.9033816425120773\n",
      "              precision    recall  f1-score   support\n",
      "\n",
      "           0       0.92      0.90      0.91       115\n",
      "           1       0.88      0.90      0.89        92\n",
      "\n",
      "    accuracy                           0.90       207\n",
      "   macro avg       0.90      0.90      0.90       207\n",
      "weighted avg       0.90      0.90      0.90       207\n",
      "\n"
     ]
    }
   ],
   "source": [
    "classifiers = build_classifiers()\n",
    "test_results = []\n",
    "names = []\n",
    "\n",
    "for name, model, parameters in classifiers:\n",
    "    gs = GridSearchCV(estimator=model,param_grid=parameters, refit=True, verbose=0)\n",
    "    gs.fit(x_train,y_train)\n",
    "    y_pred = gs.predict(x_test)\n",
    "    test_accuracy = gs.score(x_test, y_test)\n",
    "    print(\"Acurácia do modelo {} em Teste: {}\".format(name,test_accuracy))\n",
    "    print(classification_report(y_test,y_pred))\n",
    "    names.append(name)\n",
    "    test_results.append(test_accuracy)"
   ]
  },
  {
   "cell_type": "code",
   "execution_count": 44,
   "metadata": {},
   "outputs": [
    {
     "name": "stderr",
     "output_type": "stream",
     "text": [
      "D:\\Anaconda\\lib\\site-packages\\seaborn\\_decorators.py:36: FutureWarning: Pass the following variables as keyword args: x, y. From version 0.12, the only valid positional argument will be `data`, and passing other arguments without an explicit keyword will result in an error or misinterpretation.\n",
      "  warnings.warn(\n"
     ]
    },
    {
     "data": {
      "image/png": "[encoded data removed]",
      "text/plain": [
       "<Figure size 432x288 with 1 Axes>"
      ]
     },
     "metadata": {
      "needs_background": "light"
     },
     "output_type": "display_data"
    }
   ],
   "source": [
    "fig, ax = plt.subplots()\n",
    "fig.suptitle('Desempenho dos algoritmos em Teste')\n",
    "ax.set_xlabel('Classificadores')\n",
    "ax.set_ylabel('Acurácia')\n",
    "_ = sns.barplot(names, test_results)"
   ]
  },
  {
   "cell_type": "code",
   "execution_count": 45,
   "metadata": {},
   "outputs": [],
   "source": [
    "# Considerando as informações obtidas o Classificador LogisticRegression foi que obteve melhor desempenho"
   ]
  },
  {
   "cell_type": "code",
   "execution_count": null,
   "metadata": {},
   "outputs": [],
   "source": []
  }
 ],
 "metadata": {
  "colab": {
   "authorship_tag": "ABX9TyM84Ep+9ix5hduPU97iUOYb",
   "collapsed_sections": [],
   "name": "credit.ipynb",
   "provenance": []
  },
  "kernelspec": {
   "display_name": "Python 3",
   "language": "python",
   "name": "python3"
  },
  "language_info": {
   "codemirror_mode": {
    "name": "ipython",
    "version": 3
   },
   "file_extension": ".py",
   "mimetype": "text/x-python",
   "name": "python",
   "nbconvert_exporter": "python",
   "pygments_lexer": "ipython3",
   "version": "3.8.5"
  }
 },
 "nbformat": 4,
 "nbformat_minor": 1
}
